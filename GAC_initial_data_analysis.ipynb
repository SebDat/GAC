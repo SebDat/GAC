{
 "cells": [
  {
   "cell_type": "code",
   "execution_count": 1,
   "metadata": {},
   "outputs": [],
   "source": [
    "import pandas as pd\n",
    "import matplotlib.pyplot as plt\n",
    "import seaborn as sns\n",
    "import numpy as np"
   ]
  },
  {
   "cell_type": "code",
   "execution_count": 2,
   "metadata": {},
   "outputs": [],
   "source": [
    "location = 'work'\n",
    "if(location == 'work'):\n",
    "    PATH = \"C:\\\\Users\\\\SCatheline\\\\Documents\\\\Kaggle Data\\\\Google Analytics\\\\\"\n",
    "elif(location == 'home'):\n",
    "    PATH = \"\"\n",
    "else:\n",
    "    print('Unknown location.')"
   ]
  },
  {
   "cell_type": "code",
   "execution_count": 3,
   "metadata": {},
   "outputs": [
    {
     "name": "stderr",
     "output_type": "stream",
     "text": [
      "C:\\Users\\SCatheline\\AppData\\Local\\Continuum\\anaconda3\\envs\\tensorflow-GPU\\lib\\site-packages\\IPython\\core\\interactiveshell.py:2785: DtypeWarning: Columns (3) have mixed types. Specify dtype option on import or set low_memory=False.\n",
      "  interactivity=interactivity, compiler=compiler, result=result)\n"
     ]
    }
   ],
   "source": [
    "df_train = pd.read_csv(PATH+'train.csv')"
   ]
  },
  {
   "cell_type": "code",
   "execution_count": 4,
   "metadata": {},
   "outputs": [
    {
     "data": {
      "text/html": [
       "<div>\n",
       "<style scoped>\n",
       "    .dataframe tbody tr th:only-of-type {\n",
       "        vertical-align: middle;\n",
       "    }\n",
       "\n",
       "    .dataframe tbody tr th {\n",
       "        vertical-align: top;\n",
       "    }\n",
       "\n",
       "    .dataframe thead th {\n",
       "        text-align: right;\n",
       "    }\n",
       "</style>\n",
       "<table border=\"1\" class=\"dataframe\">\n",
       "  <thead>\n",
       "    <tr style=\"text-align: right;\">\n",
       "      <th></th>\n",
       "      <th>channelGrouping</th>\n",
       "      <th>date</th>\n",
       "      <th>device</th>\n",
       "      <th>fullVisitorId</th>\n",
       "      <th>geoNetwork</th>\n",
       "      <th>sessionId</th>\n",
       "      <th>socialEngagementType</th>\n",
       "      <th>totals</th>\n",
       "      <th>trafficSource</th>\n",
       "      <th>visitId</th>\n",
       "      <th>visitNumber</th>\n",
       "      <th>visitStartTime</th>\n",
       "    </tr>\n",
       "  </thead>\n",
       "  <tbody>\n",
       "    <tr>\n",
       "      <th>0</th>\n",
       "      <td>Organic Search</td>\n",
       "      <td>20160902</td>\n",
       "      <td>{\"browser\": \"Chrome\", \"browserVersion\": \"not a...</td>\n",
       "      <td>1131660440785968503</td>\n",
       "      <td>{\"continent\": \"Asia\", \"subContinent\": \"Western...</td>\n",
       "      <td>1131660440785968503_1472830385</td>\n",
       "      <td>Not Socially Engaged</td>\n",
       "      <td>{\"visits\": \"1\", \"hits\": \"1\", \"pageviews\": \"1\",...</td>\n",
       "      <td>{\"campaign\": \"(not set)\", \"source\": \"google\", ...</td>\n",
       "      <td>1472830385</td>\n",
       "      <td>1</td>\n",
       "      <td>1472830385</td>\n",
       "    </tr>\n",
       "    <tr>\n",
       "      <th>1</th>\n",
       "      <td>Organic Search</td>\n",
       "      <td>20160902</td>\n",
       "      <td>{\"browser\": \"Firefox\", \"browserVersion\": \"not ...</td>\n",
       "      <td>377306020877927890</td>\n",
       "      <td>{\"continent\": \"Oceania\", \"subContinent\": \"Aust...</td>\n",
       "      <td>377306020877927890_1472880147</td>\n",
       "      <td>Not Socially Engaged</td>\n",
       "      <td>{\"visits\": \"1\", \"hits\": \"1\", \"pageviews\": \"1\",...</td>\n",
       "      <td>{\"campaign\": \"(not set)\", \"source\": \"google\", ...</td>\n",
       "      <td>1472880147</td>\n",
       "      <td>1</td>\n",
       "      <td>1472880147</td>\n",
       "    </tr>\n",
       "    <tr>\n",
       "      <th>2</th>\n",
       "      <td>Organic Search</td>\n",
       "      <td>20160902</td>\n",
       "      <td>{\"browser\": \"Chrome\", \"browserVersion\": \"not a...</td>\n",
       "      <td>3895546263509774583</td>\n",
       "      <td>{\"continent\": \"Europe\", \"subContinent\": \"South...</td>\n",
       "      <td>3895546263509774583_1472865386</td>\n",
       "      <td>Not Socially Engaged</td>\n",
       "      <td>{\"visits\": \"1\", \"hits\": \"1\", \"pageviews\": \"1\",...</td>\n",
       "      <td>{\"campaign\": \"(not set)\", \"source\": \"google\", ...</td>\n",
       "      <td>1472865386</td>\n",
       "      <td>1</td>\n",
       "      <td>1472865386</td>\n",
       "    </tr>\n",
       "  </tbody>\n",
       "</table>\n",
       "</div>"
      ],
      "text/plain": [
       "  channelGrouping      date  \\\n",
       "0  Organic Search  20160902   \n",
       "1  Organic Search  20160902   \n",
       "2  Organic Search  20160902   \n",
       "\n",
       "                                              device        fullVisitorId  \\\n",
       "0  {\"browser\": \"Chrome\", \"browserVersion\": \"not a...  1131660440785968503   \n",
       "1  {\"browser\": \"Firefox\", \"browserVersion\": \"not ...   377306020877927890   \n",
       "2  {\"browser\": \"Chrome\", \"browserVersion\": \"not a...  3895546263509774583   \n",
       "\n",
       "                                          geoNetwork  \\\n",
       "0  {\"continent\": \"Asia\", \"subContinent\": \"Western...   \n",
       "1  {\"continent\": \"Oceania\", \"subContinent\": \"Aust...   \n",
       "2  {\"continent\": \"Europe\", \"subContinent\": \"South...   \n",
       "\n",
       "                        sessionId  socialEngagementType  \\\n",
       "0  1131660440785968503_1472830385  Not Socially Engaged   \n",
       "1   377306020877927890_1472880147  Not Socially Engaged   \n",
       "2  3895546263509774583_1472865386  Not Socially Engaged   \n",
       "\n",
       "                                              totals  \\\n",
       "0  {\"visits\": \"1\", \"hits\": \"1\", \"pageviews\": \"1\",...   \n",
       "1  {\"visits\": \"1\", \"hits\": \"1\", \"pageviews\": \"1\",...   \n",
       "2  {\"visits\": \"1\", \"hits\": \"1\", \"pageviews\": \"1\",...   \n",
       "\n",
       "                                       trafficSource     visitId  visitNumber  \\\n",
       "0  {\"campaign\": \"(not set)\", \"source\": \"google\", ...  1472830385            1   \n",
       "1  {\"campaign\": \"(not set)\", \"source\": \"google\", ...  1472880147            1   \n",
       "2  {\"campaign\": \"(not set)\", \"source\": \"google\", ...  1472865386            1   \n",
       "\n",
       "   visitStartTime  \n",
       "0      1472830385  \n",
       "1      1472880147  \n",
       "2      1472865386  "
      ]
     },
     "execution_count": 4,
     "metadata": {},
     "output_type": "execute_result"
    }
   ],
   "source": [
    "df_train.head(3)"
   ]
  },
  {
   "cell_type": "code",
   "execution_count": 5,
   "metadata": {},
   "outputs": [
    {
     "data": {
      "text/plain": [
       "'{\"browser\": \"Chrome\", \"browserVersion\": \"not available in demo dataset\", \"browserSize\": \"not available in demo dataset\", \"operatingSystem\": \"Windows\", \"operatingSystemVersion\": \"not available in demo dataset\", \"isMobile\": false, \"mobileDeviceBranding\": \"not available in demo dataset\", \"mobileDeviceModel\": \"not available in demo dataset\", \"mobileInputSelector\": \"not available in demo dataset\", \"mobileDeviceInfo\": \"not available in demo dataset\", \"mobileDeviceMarketingName\": \"not available in demo dataset\", \"flashVersion\": \"not available in demo dataset\", \"language\": \"not available in demo dataset\", \"screenColors\": \"not available in demo dataset\", \"screenResolution\": \"not available in demo dataset\", \"deviceCategory\": \"desktop\"}'"
      ]
     },
     "execution_count": 5,
     "metadata": {},
     "output_type": "execute_result"
    }
   ],
   "source": [
    "df_train['device'][0]"
   ]
  },
  {
   "cell_type": "code",
   "execution_count": 6,
   "metadata": {},
   "outputs": [
    {
     "data": {
      "text/plain": [
       "'{\"visits\": \"1\", \"hits\": \"1\", \"pageviews\": \"1\", \"bounces\": \"1\", \"newVisits\": \"1\"}'"
      ]
     },
     "execution_count": 6,
     "metadata": {},
     "output_type": "execute_result"
    }
   ],
   "source": [
    "df_train['totals'][0]"
   ]
  },
  {
   "cell_type": "code",
   "execution_count": 7,
   "metadata": {},
   "outputs": [
    {
     "data": {
      "text/plain": [
       "(903653, 12)"
      ]
     },
     "execution_count": 7,
     "metadata": {},
     "output_type": "execute_result"
    }
   ],
   "source": [
    "df_train.shape"
   ]
  },
  {
   "cell_type": "code",
   "execution_count": 8,
   "metadata": {},
   "outputs": [
    {
     "data": {
      "text/html": [
       "<div>\n",
       "<style scoped>\n",
       "    .dataframe tbody tr th:only-of-type {\n",
       "        vertical-align: middle;\n",
       "    }\n",
       "\n",
       "    .dataframe tbody tr th {\n",
       "        vertical-align: top;\n",
       "    }\n",
       "\n",
       "    .dataframe thead th {\n",
       "        text-align: right;\n",
       "    }\n",
       "</style>\n",
       "<table border=\"1\" class=\"dataframe\">\n",
       "  <thead>\n",
       "    <tr style=\"text-align: right;\">\n",
       "      <th></th>\n",
       "      <th>date</th>\n",
       "      <th>visitId</th>\n",
       "      <th>visitNumber</th>\n",
       "      <th>visitStartTime</th>\n",
       "    </tr>\n",
       "  </thead>\n",
       "  <tbody>\n",
       "    <tr>\n",
       "      <th>count</th>\n",
       "      <td>9.036530e+05</td>\n",
       "      <td>9.036530e+05</td>\n",
       "      <td>903653.000000</td>\n",
       "      <td>9.036530e+05</td>\n",
       "    </tr>\n",
       "    <tr>\n",
       "      <th>mean</th>\n",
       "      <td>2.016589e+07</td>\n",
       "      <td>1.485007e+09</td>\n",
       "      <td>2.264897</td>\n",
       "      <td>1.485007e+09</td>\n",
       "    </tr>\n",
       "    <tr>\n",
       "      <th>std</th>\n",
       "      <td>4.697698e+03</td>\n",
       "      <td>9.022124e+06</td>\n",
       "      <td>9.283735</td>\n",
       "      <td>9.022124e+06</td>\n",
       "    </tr>\n",
       "    <tr>\n",
       "      <th>min</th>\n",
       "      <td>2.016080e+07</td>\n",
       "      <td>1.470035e+09</td>\n",
       "      <td>1.000000</td>\n",
       "      <td>1.470035e+09</td>\n",
       "    </tr>\n",
       "    <tr>\n",
       "      <th>25%</th>\n",
       "      <td>2.016103e+07</td>\n",
       "      <td>1.477561e+09</td>\n",
       "      <td>1.000000</td>\n",
       "      <td>1.477561e+09</td>\n",
       "    </tr>\n",
       "    <tr>\n",
       "      <th>50%</th>\n",
       "      <td>2.017011e+07</td>\n",
       "      <td>1.483949e+09</td>\n",
       "      <td>1.000000</td>\n",
       "      <td>1.483949e+09</td>\n",
       "    </tr>\n",
       "    <tr>\n",
       "      <th>75%</th>\n",
       "      <td>2.017042e+07</td>\n",
       "      <td>1.492759e+09</td>\n",
       "      <td>1.000000</td>\n",
       "      <td>1.492759e+09</td>\n",
       "    </tr>\n",
       "    <tr>\n",
       "      <th>max</th>\n",
       "      <td>2.017080e+07</td>\n",
       "      <td>1.501657e+09</td>\n",
       "      <td>395.000000</td>\n",
       "      <td>1.501657e+09</td>\n",
       "    </tr>\n",
       "  </tbody>\n",
       "</table>\n",
       "</div>"
      ],
      "text/plain": [
       "               date       visitId    visitNumber  visitStartTime\n",
       "count  9.036530e+05  9.036530e+05  903653.000000    9.036530e+05\n",
       "mean   2.016589e+07  1.485007e+09       2.264897    1.485007e+09\n",
       "std    4.697698e+03  9.022124e+06       9.283735    9.022124e+06\n",
       "min    2.016080e+07  1.470035e+09       1.000000    1.470035e+09\n",
       "25%    2.016103e+07  1.477561e+09       1.000000    1.477561e+09\n",
       "50%    2.017011e+07  1.483949e+09       1.000000    1.483949e+09\n",
       "75%    2.017042e+07  1.492759e+09       1.000000    1.492759e+09\n",
       "max    2.017080e+07  1.501657e+09     395.000000    1.501657e+09"
      ]
     },
     "execution_count": 8,
     "metadata": {},
     "output_type": "execute_result"
    }
   ],
   "source": [
    "df_train.describe()"
   ]
  },
  {
   "cell_type": "code",
   "execution_count": 9,
   "metadata": {},
   "outputs": [
    {
     "data": {
      "text/plain": [
       "channelGrouping         0\n",
       "date                    0\n",
       "device                  0\n",
       "fullVisitorId           0\n",
       "geoNetwork              0\n",
       "sessionId               0\n",
       "socialEngagementType    0\n",
       "totals                  0\n",
       "trafficSource           0\n",
       "visitId                 0\n",
       "visitNumber             0\n",
       "visitStartTime          0\n",
       "dtype: int64"
      ]
     },
     "execution_count": 9,
     "metadata": {},
     "output_type": "execute_result"
    }
   ],
   "source": [
    "df_train.isna().sum()"
   ]
  },
  {
   "cell_type": "code",
   "execution_count": 10,
   "metadata": {},
   "outputs": [
    {
     "data": {
      "text/plain": [
       "array(['Organic Search', 'Referral', 'Paid Search', 'Affiliates',\n",
       "       'Direct', 'Display', 'Social', '(Other)'], dtype=object)"
      ]
     },
     "execution_count": 10,
     "metadata": {},
     "output_type": "execute_result"
    }
   ],
   "source": [
    "df_train['channelGrouping'].unique()"
   ]
  },
  {
   "cell_type": "code",
   "execution_count": 11,
   "metadata": {},
   "outputs": [],
   "source": [
    "a = df_train['device'].unique()"
   ]
  },
  {
   "cell_type": "code",
   "execution_count": 12,
   "metadata": {},
   "outputs": [
    {
     "data": {
      "text/plain": [
       "(176,)"
      ]
     },
     "execution_count": 12,
     "metadata": {},
     "output_type": "execute_result"
    }
   ],
   "source": [
    "a.shape"
   ]
  },
  {
   "cell_type": "code",
   "execution_count": 13,
   "metadata": {},
   "outputs": [
    {
     "data": {
      "text/plain": [
       "'{\"browser\": \"M5\", \"browserVersion\": \"not available in demo dataset\", \"browserSize\": \"not available in demo dataset\", \"operatingSystem\": \"Android\", \"operatingSystemVersion\": \"not available in demo dataset\", \"isMobile\": true, \"mobileDeviceBranding\": \"not available in demo dataset\", \"mobileDeviceModel\": \"not available in demo dataset\", \"mobileInputSelector\": \"not available in demo dataset\", \"mobileDeviceInfo\": \"not available in demo dataset\", \"mobileDeviceMarketingName\": \"not available in demo dataset\", \"flashVersion\": \"not available in demo dataset\", \"language\": \"not available in demo dataset\", \"screenColors\": \"not available in demo dataset\", \"screenResolution\": \"not available in demo dataset\", \"deviceCategory\": \"tablet\"}'"
      ]
     },
     "execution_count": 13,
     "metadata": {},
     "output_type": "execute_result"
    }
   ],
   "source": [
    "a[100]"
   ]
  },
  {
   "cell_type": "code",
   "execution_count": 14,
   "metadata": {},
   "outputs": [],
   "source": [
    "a = df_train['geoNetwork'].unique()"
   ]
  },
  {
   "cell_type": "code",
   "execution_count": 15,
   "metadata": {},
   "outputs": [
    {
     "data": {
      "text/plain": [
       "(39032,)"
      ]
     },
     "execution_count": 15,
     "metadata": {},
     "output_type": "execute_result"
    }
   ],
   "source": [
    "a.shape"
   ]
  },
  {
   "cell_type": "code",
   "execution_count": 16,
   "metadata": {},
   "outputs": [
    {
     "data": {
      "text/plain": [
       "'{\"continent\": \"Asia\", \"subContinent\": \"Western Asia\", \"country\": \"Turkey\", \"region\": \"Izmir\", \"metro\": \"(not set)\", \"city\": \"Izmir\", \"cityId\": \"not available in demo dataset\", \"networkDomain\": \"ttnet.com.tr\", \"latitude\": \"not available in demo dataset\", \"longitude\": \"not available in demo dataset\", \"networkLocation\": \"not available in demo dataset\"}'"
      ]
     },
     "execution_count": 16,
     "metadata": {},
     "output_type": "execute_result"
    }
   ],
   "source": [
    "a[0]"
   ]
  },
  {
   "cell_type": "code",
   "execution_count": 17,
   "metadata": {},
   "outputs": [],
   "source": [
    "a = df_train['socialEngagementType'].unique()"
   ]
  },
  {
   "cell_type": "code",
   "execution_count": 18,
   "metadata": {},
   "outputs": [
    {
     "data": {
      "text/plain": [
       "(1,)"
      ]
     },
     "execution_count": 18,
     "metadata": {},
     "output_type": "execute_result"
    }
   ],
   "source": [
    "a.shape"
   ]
  },
  {
   "cell_type": "code",
   "execution_count": 19,
   "metadata": {},
   "outputs": [
    {
     "data": {
      "text/plain": [
       "'Not Socially Engaged'"
      ]
     },
     "execution_count": 19,
     "metadata": {},
     "output_type": "execute_result"
    }
   ],
   "source": [
    "a[0]"
   ]
  },
  {
   "cell_type": "code",
   "execution_count": 20,
   "metadata": {},
   "outputs": [],
   "source": [
    "a = df_train['trafficSource'].unique()"
   ]
  },
  {
   "cell_type": "code",
   "execution_count": 21,
   "metadata": {},
   "outputs": [
    {
     "data": {
      "text/plain": [
       "(26061,)"
      ]
     },
     "execution_count": 21,
     "metadata": {},
     "output_type": "execute_result"
    }
   ],
   "source": [
    "a.shape"
   ]
  },
  {
   "cell_type": "code",
   "execution_count": 22,
   "metadata": {},
   "outputs": [
    {
     "data": {
      "text/plain": [
       "'{\"campaign\": \"AW - Dynamic Search Ads Whole Site\", \"source\": \"google\", \"medium\": \"cpc\", \"keyword\": \"6qEhsCssdK0z36ri\", \"adwordsClickInfo\": {\"page\": \"1\", \"slot\": \"Top\", \"criteriaParameters\": \"not available in demo dataset\", \"gclId\": \"CjwKEAiA17LDBRDElqOGq8vR7m8SJAA1AC0_0wzbDX0fd-gzNVm4iuZRBFQ6id5RBK7XQZGOS1kIHRoCXJPw_wcB\", \"adNetworkType\": \"Google Search\", \"isVideoAd\": false}}'"
      ]
     },
     "execution_count": 22,
     "metadata": {},
     "output_type": "execute_result"
    }
   ],
   "source": [
    "a[26060]"
   ]
  },
  {
   "cell_type": "code",
   "execution_count": 23,
   "metadata": {},
   "outputs": [
    {
     "data": {
      "text/plain": [
       "'{\"campaign\": \"AW - Accessories\", \"source\": \"google\", \"medium\": \"cpc\", \"keyword\": \"google store merchandise\", \"adContent\": \"Google Merchandise Collection\", \"adwordsClickInfo\": {\"page\": \"1\", \"slot\": \"Top\", \"criteriaParameters\": \"not available in demo dataset\", \"gclId\": \"CjwKEAiA0fnFBRC6g8rgmICvrw0SJADx1_zAtwEHQuB2rIh1AeYRFyhkiEnlREW4lzryrzkkrxnRqBoCDDXw_wcB\", \"adNetworkType\": \"Google Search\", \"isVideoAd\": false}, \"isTrueDirect\": true}'"
      ]
     },
     "execution_count": 23,
     "metadata": {},
     "output_type": "execute_result"
    }
   ],
   "source": [
    "a[500]"
   ]
  },
  {
   "cell_type": "code",
   "execution_count": 24,
   "metadata": {},
   "outputs": [],
   "source": [
    "a = df_train['visitNumber']"
   ]
  },
  {
   "cell_type": "code",
   "execution_count": 25,
   "metadata": {},
   "outputs": [
    {
     "data": {
      "text/plain": [
       "(array([0.77801988, 0.77801988, 0.8804353 , 0.8804353 , 0.8804353 ,\n",
       "        0.92009986, 0.92009986, 0.94129937, 0.94129937, 0.94129937,\n",
       "        0.95415276, 0.95415276, 0.96264827, 0.96264827, 0.96264827,\n",
       "        0.9686384 , 0.9686384 , 0.97309919, 0.97309919, 0.97309919,\n",
       "        0.976512  , 0.976512  , 0.97918449, 0.97918449, 0.97918449,\n",
       "        0.9813269 , 0.9813269 , 0.98306762, 0.98306762, 0.98306762,\n",
       "        0.98449737, 0.98449737, 0.9857058 , 0.9857058 , 0.9857058 ,\n",
       "        0.98673274, 0.98673274, 0.98673274, 0.98762799, 0.98762799,\n",
       "        0.98840152, 0.98840152, 0.98840152, 0.98907767, 0.98907767,\n",
       "        0.98967635, 0.98967635, 0.98967635, 0.99022634, 0.99022634,\n",
       "        0.99071989, 0.99071989, 0.99071989, 0.99116143, 0.99116143,\n",
       "        0.99155428, 0.99155428, 0.99155428, 0.99193053, 0.99193053,\n",
       "        0.99226694, 0.99226694, 0.99226694, 0.99256794, 0.99256794,\n",
       "        0.99283907, 0.99283907, 0.99283907, 0.99308584, 0.99308584,\n",
       "        0.99308584, 0.99331049, 0.99331049, 0.99351853, 0.99351853,\n",
       "        0.99351853, 0.99371329, 0.99371329, 0.99389257, 0.99389257,\n",
       "        0.99389257, 0.99405413, 0.99405413, 0.99421238, 0.99421238,\n",
       "        0.99421238, 0.99435956, 0.99435956, 0.9945001 , 0.9945001 ,\n",
       "        0.9945001 , 0.99462958, 0.99462958, 0.9947513 , 0.9947513 ,\n",
       "        0.9947513 , 0.99487082, 0.99487082, 0.9949848 , 0.9949848 ,\n",
       "        0.9949848 , 0.99509657, 0.99509657, 0.99509657, 0.9952028 ,\n",
       "        0.9952028 , 0.99530351, 0.99530351, 0.99530351, 0.99539646,\n",
       "        0.99539646, 0.99548389, 0.99548389, 0.99548389, 0.99556688,\n",
       "        0.99556688, 0.99564767, 0.99564767, 0.99564767, 0.99572624,\n",
       "        0.99572624, 0.99579706, 0.99579706, 0.99579706, 0.9958701 ,\n",
       "        0.9958701 , 0.99594424, 0.99594424, 0.99594424, 0.99601396,\n",
       "        0.99601396, 0.99608367, 0.99608367, 0.99608367, 0.99614786,\n",
       "        0.99614786, 0.99614786, 0.99621093, 0.99621093, 0.99627401,\n",
       "        0.99627401, 0.99627401, 0.99633709, 0.99633709, 0.99640017,\n",
       "        0.99640017, 0.99640017, 0.99646103, 0.99646103, 0.99651526,\n",
       "        0.99651526, 0.99651526, 0.99656837, 0.99656837, 0.9966237 ,\n",
       "        0.9966237 , 0.9966237 , 0.99667903, 0.99667903, 0.99672994,\n",
       "        0.99672994, 0.99672994, 0.99678195, 0.99678195, 0.99682511,\n",
       "        0.99682511, 0.99682511, 0.99686827, 0.99686827, 0.99686827,\n",
       "        0.99691364, 0.99691364, 0.9969568 , 0.9969568 , 0.9969568 ,\n",
       "        0.99699995, 0.99699995, 0.99704201, 0.99704201, 0.99704201,\n",
       "        0.99708074, 0.99708074, 0.99711947, 0.99711947, 0.99711947,\n",
       "        0.9971582 , 0.9971582 , 0.99719915, 0.99719915, 0.99719915,\n",
       "        0.99723788, 0.99723788, 0.99727218, 0.99727218, 0.99727218,\n",
       "        0.99730427, 0.99730427, 0.99733637, 0.99733637, 0.99733637,\n",
       "        0.99736735, 0.99736735, 0.99736735, 0.99739834, 0.99739834,\n",
       "        0.99742932, 0.99742932, 0.99742932, 0.9974581 , 0.9974581 ,\n",
       "        0.99748576, 0.99748576, 0.99748576, 0.99751121, 0.99751121,\n",
       "        0.99753888, 0.99753888, 0.99753888, 0.99756765, 0.99756765,\n",
       "        0.99759642, 0.99759642, 0.99759642, 0.99762187, 0.99762187,\n",
       "        0.99764954, 0.99764954, 0.99764954, 0.99767721, 0.99767721,\n",
       "        0.99770819, 0.99770819, 0.99770819, 0.99773807, 0.99773807,\n",
       "        0.99773807, 0.99776795, 0.99776795, 0.99779893, 0.99779893,\n",
       "        0.99779893, 0.99782992, 0.99782992, 0.99786201, 0.99786201,\n",
       "        0.99786201, 0.99789521, 0.99789521, 0.99793062, 0.99793062,\n",
       "        0.99793062, 0.99796382, 0.99796382, 0.9979937 , 0.9979937 ,\n",
       "        0.9979937 , 0.99802358, 0.99802358, 0.99805456, 0.99805456,\n",
       "        0.99805456, 0.99808444, 0.99808444, 0.99811543, 0.99811543,\n",
       "        0.99811543, 0.99814199, 0.99814199, 0.99814199, 0.99816744,\n",
       "        0.99816744, 0.99819178, 0.99819178, 0.99819178, 0.99821834,\n",
       "        0.99821834, 0.99824269, 0.99824269, 0.99824269, 0.99826814,\n",
       "        0.99826814, 0.99829249, 0.99829249, 0.99829249, 0.99831794,\n",
       "        0.99831794, 0.99834228, 0.99834228, 0.99834228, 0.99836552,\n",
       "        0.99836552, 0.99838987, 0.99838987, 0.99838987, 0.99841532,\n",
       "        0.99841532, 0.99843856, 0.99843856, 0.99843856, 0.99846069,\n",
       "        0.99846069, 0.99846069, 0.99848282, 0.99848282, 0.99850385,\n",
       "        0.99850385, 0.99850385, 0.99852488, 0.99852488, 0.9985459 ,\n",
       "        0.9985459 , 0.9985459 , 0.99856693, 0.99856693, 0.99858685,\n",
       "        0.99858685, 0.99858685, 0.99860677, 0.99860677, 0.99862779,\n",
       "        0.99862779, 0.99862779, 0.99864992, 0.99864992, 0.99866874,\n",
       "        0.99866874, 0.99866874, 0.99868755, 0.99868755, 0.99870636,\n",
       "        0.99870636, 0.99870636, 0.99872407, 0.99872407, 0.99872407,\n",
       "        0.99874177, 0.99874177, 0.99876059, 0.99876059, 0.99876059,\n",
       "        0.9987794 , 0.9987794 , 0.99879821, 0.99879821, 0.99879821,\n",
       "        0.99881481, 0.99881481, 0.99883252, 0.99883252, 0.99883252,\n",
       "        0.99884801, 0.99884801, 0.99886129, 0.99886129, 0.99886129,\n",
       "        0.99887567, 0.99887567, 0.99889006, 0.99889006, 0.99889006,\n",
       "        0.99890334, 0.99890334, 0.99891883, 0.99891883, 0.99891883,\n",
       "        0.99893433, 0.99893433, 0.99893433, 0.99894871, 0.99894871,\n",
       "        0.9989631 , 0.9989631 , 0.9989631 , 0.99897527, 0.99897527,\n",
       "        0.99899076, 0.99899076, 0.99899076, 0.99900626, 0.99900626,\n",
       "        0.99901954, 0.99901954, 0.99901954, 0.99903392, 0.99903392,\n",
       "        0.9990472 , 0.9990472 , 0.9990472 , 0.99905827, 0.99905827,\n",
       "        0.99907044, 0.99907044, 0.99907044, 0.99908261, 0.99908261,\n",
       "        0.99909368, 0.99909368, 0.99909368, 0.99910474, 0.99910474,\n",
       "        0.99910474, 0.99911581, 0.99911581, 0.99912577, 0.99912577,\n",
       "        0.99912577, 0.99913462, 0.99913462, 0.99914126, 0.99914126,\n",
       "        0.99914126, 0.99915122, 0.99915122, 0.99916118, 0.99916118,\n",
       "        0.99916118, 0.99917114, 0.99917114, 0.9991811 , 0.9991811 ,\n",
       "        0.9991811 , 0.99919217, 0.99919217, 0.99920323, 0.99920323,\n",
       "        0.99920323, 0.99921319, 0.99921319, 0.99922205, 0.99922205,\n",
       "        0.99922205, 0.99923311, 0.99923311, 0.99923311, 0.99924418,\n",
       "        0.99924418, 0.99925414, 0.99925414, 0.99925414, 0.99926299,\n",
       "        0.99926299, 0.99927184, 0.99927184, 0.99927184, 0.9992807 ,\n",
       "        0.9992807 , 0.99928955, 0.99928955, 0.99928955, 0.99929951,\n",
       "        0.99929951, 0.99930836, 0.99930836, 0.99930836, 0.99931943,\n",
       "        0.99931943, 0.9993305 , 0.9993305 , 0.9993305 , 0.99934045,\n",
       "        0.99934045, 0.99935041, 0.99935041, 0.99935041, 0.99935816,\n",
       "        0.99935816, 0.99935816, 0.99936591, 0.99936591, 0.99937476,\n",
       "        0.99937476, 0.99937476, 0.99938472, 0.99938472, 0.99939468,\n",
       "        0.99939468, 0.99939468, 0.99940353, 0.99940353, 0.99941239,\n",
       "        0.99941239, 0.99941239, 0.99942124, 0.99942124, 0.99942898,\n",
       "        0.99942898, 0.99942898, 0.99943452, 0.99943452, 0.99944116,\n",
       "        0.99944116, 0.99944116, 0.9994478 , 0.9994478 , 0.99945333,\n",
       "        0.99945333, 0.99945333, 0.99945886, 0.99945886, 0.99945886,\n",
       "        0.9994644 , 0.9994644 , 0.99946993, 0.99946993, 0.99946993,\n",
       "        0.99947546, 0.99947546, 0.99947878, 0.99947878, 0.99947878,\n",
       "        0.9994821 , 0.9994821 , 0.99948542, 0.99948542, 0.99948542,\n",
       "        0.99948874, 0.99948874, 0.99949206, 0.99949206, 0.99949206,\n",
       "        0.99949649, 0.99949649, 0.99950091, 0.99950091, 0.99950091,\n",
       "        0.99950534, 0.99950534, 0.99951087, 0.99951087, 0.99951087,\n",
       "        0.99951641, 0.99951641, 0.99952194, 0.99952194, 0.99952194,\n",
       "        0.99952747, 0.99952747, 0.99952747, 0.99953301, 0.99953301,\n",
       "        0.99953854, 0.99953854, 0.99953854, 0.99954297, 0.99954297,\n",
       "        0.99954739, 0.99954739, 0.99954739, 0.99955182, 0.99955182,\n",
       "        0.99955735, 0.99955735, 0.99955735, 0.99956178, 0.99956178,\n",
       "        0.99956621, 0.99956621, 0.99956621, 0.99957063, 0.99957063,\n",
       "        0.99957506, 0.99957506, 0.99957506, 0.99957948, 0.99957948,\n",
       "        0.99958391, 0.99958391, 0.99958391, 0.99958834, 0.99958834,\n",
       "        0.99958834, 0.99959276, 0.99959276, 0.9995983 , 0.9995983 ,\n",
       "        0.9995983 , 0.99960383, 0.99960383, 0.99960936, 0.99960936,\n",
       "        0.99960936, 0.9996149 , 0.9996149 , 0.99961822, 0.99961822,\n",
       "        0.99961822, 0.99962154, 0.99962154, 0.99962486, 0.99962486,\n",
       "        0.99962486, 0.99962818, 0.99962818, 0.9996326 , 0.9996326 ,\n",
       "        0.9996326 , 0.99963703, 0.99963703, 0.99964035, 0.99964035,\n",
       "        0.99964035, 0.99964478, 0.99964478, 0.99964478, 0.9996492 ,\n",
       "        0.9996492 , 0.99965363, 0.99965363, 0.99965363, 0.99965805,\n",
       "        0.99965805, 0.99966248, 0.99966248, 0.99966248, 0.99966691,\n",
       "        0.99966691, 0.99967244, 0.99967244, 0.99967244, 0.99967797,\n",
       "        0.99967797, 0.9996824 , 0.9996824 , 0.9996824 , 0.99968683,\n",
       "        0.99968683, 0.99969125, 0.99969125, 0.99969125, 0.99969347,\n",
       "        0.99969347, 0.99969568, 0.99969568, 0.99969568, 0.99970011,\n",
       "        0.99970011, 0.99970011, 0.99970453, 0.99970453, 0.99970785,\n",
       "        0.99970785, 0.99970785, 0.99971117, 0.99971117, 0.99971449,\n",
       "        0.99971449, 0.99971449, 0.99971892, 0.99971892, 0.99972335,\n",
       "        0.99972335, 0.99972335, 0.99972777, 0.99972777, 0.9997322 ,\n",
       "        0.9997322 , 0.9997322 , 0.99973662, 0.99973662, 0.99974105,\n",
       "        0.99974105, 0.99974105, 0.99974548, 0.99974548, 0.9997499 ,\n",
       "        0.9997499 , 0.9997499 , 0.99975433, 0.99975433, 0.99975433,\n",
       "        0.99975876, 0.99975876, 0.99976318, 0.99976318, 0.99976318,\n",
       "        0.99976761, 0.99976761, 0.99977204, 0.99977204, 0.99977204,\n",
       "        0.99977646, 0.99977646, 0.99978089, 0.99978089, 0.99978089,\n",
       "        0.99978532, 0.99978532, 0.99978974, 0.99978974, 0.99978974,\n",
       "        0.99979417, 0.99979417, 0.9997986 , 0.9997986 , 0.9997986 ,\n",
       "        0.99980302, 0.99980302, 0.99980745, 0.99980745, 0.99980745,\n",
       "        0.99981187, 0.99981187, 0.99981187, 0.9998163 , 0.9998163 ,\n",
       "        0.99982073, 0.99982073, 0.99982073, 0.99982515, 0.99982515,\n",
       "        0.99982958, 0.99982958, 0.99982958, 0.99983401, 0.99983401,\n",
       "        0.99983843, 0.99983843, 0.99983843, 0.99984286, 0.99984286,\n",
       "        0.99984618, 0.99984618, 0.99984618, 0.9998495 , 0.9998495 ,\n",
       "        0.99985171, 0.99985171, 0.99985171, 0.99985393, 0.99985393,\n",
       "        0.99985614, 0.99985614, 0.99985614, 0.99985725, 0.99985725,\n",
       "        0.99985725, 0.99985946, 0.99985946, 0.99986278, 0.99986278,\n",
       "        0.99986278, 0.9998661 , 0.9998661 , 0.99986942, 0.99986942,\n",
       "        0.99986942, 0.99987274, 0.99987274, 0.99987606, 0.99987606,\n",
       "        0.99987606, 0.99987938, 0.99987938, 0.9998827 , 0.9998827 ,\n",
       "        0.9998827 , 0.99988491, 0.99988491, 0.99988712, 0.99988712,\n",
       "        0.99988712, 0.99988934, 0.99988934, 0.99989155, 0.99989155,\n",
       "        0.99989155, 0.99989376, 0.99989376, 0.99989376, 0.99989487,\n",
       "        0.99989487, 0.99989598, 0.99989598, 0.99989598, 0.99989708,\n",
       "        0.99989708, 0.99989819, 0.99989819, 0.99989819, 0.9999004 ,\n",
       "        0.9999004 , 0.99990262, 0.99990262, 0.99990262, 0.99990372,\n",
       "        0.99990372, 0.99990594, 0.99990594, 0.99990594, 0.99990815,\n",
       "        0.99990815, 0.99990926, 0.99990926, 0.99990926, 0.99991036,\n",
       "        0.99991036, 0.99991258, 0.99991258, 0.99991258, 0.99991368,\n",
       "        0.99991368, 0.99991368, 0.9999159 , 0.9999159 , 0.99991811,\n",
       "        0.99991811, 0.99991811, 0.99992032, 0.99992032, 0.99992254,\n",
       "        0.99992254, 0.99992254, 0.99992475, 0.99992475, 0.99992696,\n",
       "        0.99992696, 0.99992696, 0.99992918, 0.99992918, 0.99993139,\n",
       "        0.99993139, 0.99993139, 0.9999336 , 0.9999336 , 0.99993582,\n",
       "        0.99993582, 0.99993582, 0.99993692, 0.99993692, 0.99993803,\n",
       "        0.99993803, 0.99993803, 0.99993914, 0.99993914, 0.99993914,\n",
       "        0.99993914, 0.99993914, 0.99993914, 0.99993914, 0.99993914,\n",
       "        0.99993914, 0.99993914, 0.99994024, 0.99994024, 0.99994024,\n",
       "        0.99994135, 0.99994135, 0.99994246, 0.99994246, 0.99994246,\n",
       "        0.99994356, 0.99994356, 0.99994467, 0.99994467, 0.99994467,\n",
       "        0.99994578, 0.99994578, 0.99994688, 0.99994688, 0.99994688,\n",
       "        0.99994799, 0.99994799, 0.9999491 , 0.9999491 , 0.9999491 ,\n",
       "        0.9999502 , 0.9999502 , 0.9999502 , 0.99995131, 0.99995131,\n",
       "        0.99995242, 0.99995242, 0.99995242, 0.99995352, 0.99995352,\n",
       "        0.99995463, 0.99995463, 0.99995463, 0.99995574, 0.99995574,\n",
       "        0.99995684, 0.99995684, 0.99995684, 0.99995795, 0.99995795,\n",
       "        0.99995906, 0.99995906, 0.99995906, 0.99996016, 0.99996016,\n",
       "        0.99996127, 0.99996127, 0.99996127, 0.99996237, 0.99996237,\n",
       "        0.99996348, 0.99996348, 0.99996348, 0.99996459, 0.99996459,\n",
       "        0.99996459, 0.99996569, 0.99996569, 0.9999668 , 0.9999668 ,\n",
       "        0.9999668 , 0.99996791, 0.99996791, 0.99996901, 0.99996901,\n",
       "        0.99996901, 0.99997012, 0.99997012, 0.99997123, 0.99997123,\n",
       "        0.99997123, 0.99997233, 0.99997233, 0.99997344, 0.99997344,\n",
       "        0.99997344, 0.99997455, 0.99997455, 0.99997455, 0.99997455,\n",
       "        0.99997455, 0.99997455, 0.99997455, 0.99997455, 0.99997455,\n",
       "        0.99997455, 0.99997455, 0.99997455, 0.99997455, 0.99997565,\n",
       "        0.99997565, 0.99997676, 0.99997676, 0.99997676, 0.99997787,\n",
       "        0.99997787, 0.99997897, 0.99997897, 0.99997897, 0.99998008,\n",
       "        0.99998008, 0.99998119, 0.99998119, 0.99998119, 0.99998229,\n",
       "        0.99998229, 0.9999834 , 0.9999834 , 0.9999834 , 0.99998451,\n",
       "        0.99998451, 0.99998561, 0.99998561, 0.99998561, 0.99998672,\n",
       "        0.99998672, 0.99998672, 0.99998672, 0.99998672, 0.99998672,\n",
       "        0.99998672, 0.99998672, 0.99998672, 0.99998672, 0.99998783,\n",
       "        0.99998783, 0.99998783, 0.99998893, 0.99998893, 0.99999004,\n",
       "        0.99999004, 0.99999004, 0.99999115, 0.99999115, 0.99999225,\n",
       "        0.99999225, 0.99999225, 0.99999336, 0.99999336, 0.99999447,\n",
       "        0.99999447, 0.99999447, 0.99999557, 0.99999557, 0.99999668,\n",
       "        0.99999668, 0.99999668, 0.99999668, 0.99999668, 0.99999779,\n",
       "        0.99999779, 0.99999779, 0.99999889, 0.99999889, 1.        ]),\n",
       " array([  1.   ,   1.394,   1.788, ..., 394.212, 394.606, 395.   ]),\n",
       " <a list of 1000 Patch objects>)"
      ]
     },
     "execution_count": 25,
     "metadata": {},
     "output_type": "execute_result"
    },
    {
     "data": {
      "image/png": "[encoded data removed]",
      "text/plain": [
       "<Figure size 432x288 with 1 Axes>"
      ]
     },
     "metadata": {
      "needs_background": "light"
     },
     "output_type": "display_data"
    }
   ],
   "source": [
    "plt.hist(a.values,bins = 1000, density = True,cumulative= True)"
   ]
  },
  {
   "cell_type": "code",
   "execution_count": 26,
   "metadata": {},
   "outputs": [],
   "source": [
    "from datetime import datetime"
   ]
  },
  {
   "cell_type": "markdown",
   "metadata": {},
   "source": [
    "## IMPORTANT: THE TIMES NEED TO BE CONVERTED TO LOCAL TIME FOR PROPER EVALUATION OF THE STATISTICS"
   ]
  },
  {
   "cell_type": "code",
   "execution_count": 27,
   "metadata": {},
   "outputs": [],
   "source": [
    "a = df_train['visitStartTime']"
   ]
  },
  {
   "cell_type": "code",
   "execution_count": 28,
   "metadata": {},
   "outputs": [
    {
     "data": {
      "text/plain": [
       "1472830385"
      ]
     },
     "execution_count": 28,
     "metadata": {},
     "output_type": "execute_result"
    }
   ],
   "source": [
    "a[0]"
   ]
  },
  {
   "cell_type": "code",
   "execution_count": 29,
   "metadata": {},
   "outputs": [
    {
     "data": {
      "text/plain": [
       "datetime.datetime(2016, 9, 2, 17, 33, 5)"
      ]
     },
     "execution_count": 29,
     "metadata": {},
     "output_type": "execute_result"
    }
   ],
   "source": [
    "datetime.fromtimestamp(a[0])"
   ]
  },
  {
   "cell_type": "code",
   "execution_count": null,
   "metadata": {},
   "outputs": [],
   "source": []
  },
  {
   "cell_type": "markdown",
   "metadata": {},
   "source": [
    "## Get number of visit per visitor Id"
   ]
  },
  {
   "cell_type": "code",
   "execution_count": 30,
   "metadata": {},
   "outputs": [],
   "source": [
    "a = df_train['fullVisitorId'].unique()"
   ]
  },
  {
   "cell_type": "code",
   "execution_count": 31,
   "metadata": {},
   "outputs": [
    {
     "data": {
      "text/plain": [
       "(742735,)"
      ]
     },
     "execution_count": 31,
     "metadata": {},
     "output_type": "execute_result"
    }
   ],
   "source": [
    "a.shape"
   ]
  },
  {
   "cell_type": "code",
   "execution_count": 32,
   "metadata": {},
   "outputs": [],
   "source": [
    "b = df_train['fullVisitorId'].value_counts()"
   ]
  },
  {
   "cell_type": "code",
   "execution_count": 33,
   "metadata": {},
   "outputs": [
    {
     "data": {
      "text/plain": [
       "(742735,)"
      ]
     },
     "execution_count": 33,
     "metadata": {},
     "output_type": "execute_result"
    }
   ],
   "source": [
    "b.shape"
   ]
  },
  {
   "cell_type": "markdown",
   "metadata": {},
   "source": [
    "Large number of visitor only visit once or twice"
   ]
  },
  {
   "cell_type": "code",
   "execution_count": 34,
   "metadata": {},
   "outputs": [
    {
     "data": {
      "image/png": "[encoded data removed]",
      "text/plain": [
       "<Figure size 432x288 with 1 Axes>"
      ]
     },
     "metadata": {
      "needs_background": "light"
     },
     "output_type": "display_data"
    }
   ],
   "source": [
    "g = sns.distplot(b, bins = 100)"
   ]
  },
  {
   "cell_type": "code",
   "execution_count": 35,
   "metadata": {},
   "outputs": [
    {
     "data": {
      "image/png": "[encoded data removed]",
      "text/plain": [
       "<Figure size 432x288 with 1 Axes>"
      ]
     },
     "metadata": {
      "needs_background": "light"
     },
     "output_type": "display_data"
    }
   ],
   "source": [
    "g = sns.distplot(b, bins = 100,kde = False)\n",
    "g.set_yscale('log')"
   ]
  },
  {
   "cell_type": "code",
   "execution_count": 36,
   "metadata": {},
   "outputs": [
    {
     "name": "stderr",
     "output_type": "stream",
     "text": [
      "C:\\Users\\SCatheline\\AppData\\Local\\Continuum\\anaconda3\\envs\\tensorflow-GPU\\lib\\site-packages\\matplotlib\\axes\\_axes.py:6571: UserWarning: The 'normed' kwarg is deprecated, and has been replaced by the 'density' kwarg.\n",
      "  warnings.warn(\"The 'normed' kwarg is deprecated, and has been \"\n"
     ]
    },
    {
     "data": {
      "text/plain": [
       "<matplotlib.axes._subplots.AxesSubplot at 0x1e784d435c0>"
      ]
     },
     "execution_count": 36,
     "metadata": {},
     "output_type": "execute_result"
    },
    {
     "data": {
      "image/png": "[encoded data removed]",
      "text/plain": [
       "<Figure size 432x288 with 1 Axes>"
      ]
     },
     "metadata": {
      "needs_background": "light"
     },
     "output_type": "display_data"
    }
   ],
   "source": [
    "s = pd.Series(b)\n",
    "s.hist(cumulative=True, normed=1, bins=1000)"
   ]
  },
  {
   "cell_type": "code",
   "execution_count": 37,
   "metadata": {},
   "outputs": [],
   "source": [
    "ss = s.cumsum()"
   ]
  },
  {
   "cell_type": "code",
   "execution_count": 38,
   "metadata": {},
   "outputs": [
    {
     "data": {
      "text/plain": [
       "[<matplotlib.lines.Line2D at 0x1e78a48fc50>]"
      ]
     },
     "execution_count": 38,
     "metadata": {},
     "output_type": "execute_result"
    },
    {
     "data": {
      "image/png": "[encoded data removed]",
      "text/plain": [
       "<Figure size 432x288 with 1 Axes>"
      ]
     },
     "metadata": {
      "needs_background": "light"
     },
     "output_type": "display_data"
    }
   ],
   "source": [
    "plt.plot(s.values)"
   ]
  },
  {
   "cell_type": "code",
   "execution_count": 39,
   "metadata": {},
   "outputs": [
    {
     "data": {
      "image/png": "[encoded data removed]",
      "text/plain": [
       "<Figure size 432x288 with 1 Axes>"
      ]
     },
     "metadata": {
      "needs_background": "light"
     },
     "output_type": "display_data"
    }
   ],
   "source": [
    "cc = plt.hist(b,bins = 1000)"
   ]
  },
  {
   "cell_type": "code",
   "execution_count": 40,
   "metadata": {},
   "outputs": [],
   "source": [
    "cc = pd.Series(cc[0]).cumsum()"
   ]
  },
  {
   "cell_type": "code",
   "execution_count": 41,
   "metadata": {},
   "outputs": [
    {
     "data": {
      "text/plain": [
       "[<matplotlib.lines.Line2D at 0x1e78a200390>]"
      ]
     },
     "execution_count": 41,
     "metadata": {},
     "output_type": "execute_result"
    },
    {
     "data": {
      "image/png": "[encoded data removed]",
      "text/plain": [
       "<Figure size 432x288 with 1 Axes>"
      ]
     },
     "metadata": {
      "needs_background": "light"
     },
     "output_type": "display_data"
    }
   ],
   "source": [
    "plt.plot(np.linspace(min(b),max(b),1000),cc.values/cc.values[-1])"
   ]
  },
  {
   "cell_type": "markdown",
   "metadata": {},
   "source": [
    "# Preprocessing"
   ]
  },
  {
   "cell_type": "code",
   "execution_count": 110,
   "metadata": {},
   "outputs": [],
   "source": [
    "import json"
   ]
  },
  {
   "cell_type": "code",
   "execution_count": 111,
   "metadata": {},
   "outputs": [],
   "source": [
    "string = df_train['device'][0]"
   ]
  },
  {
   "cell_type": "code",
   "execution_count": 112,
   "metadata": {},
   "outputs": [],
   "source": [
    "json_acceptable_string = string.replace(\"'\", \"\\\"\")\n",
    "d = json.loads(json_acceptable_string)"
   ]
  },
  {
   "cell_type": "code",
   "execution_count": 102,
   "metadata": {},
   "outputs": [],
   "source": [
    "a = df_train['trafficSource'].unique()"
   ]
  },
  {
   "cell_type": "code",
   "execution_count": 103,
   "metadata": {},
   "outputs": [],
   "source": [
    "json_acceptable_string = a[500].replace(\"'\", \"\\\"\")\n",
    "d = json.loads(json_acceptable_string)"
   ]
  },
  {
   "cell_type": "code",
   "execution_count": 104,
   "metadata": {},
   "outputs": [
    {
     "data": {
      "text/plain": [
       "{'campaign': 'AW - Accessories',\n",
       " 'source': 'google',\n",
       " 'medium': 'cpc',\n",
       " 'keyword': 'google store merchandise',\n",
       " 'adContent': 'Google Merchandise Collection',\n",
       " 'adwordsClickInfo': {'page': '1',\n",
       "  'slot': 'Top',\n",
       "  'criteriaParameters': 'not available in demo dataset',\n",
       "  'gclId': 'CjwKEAiA0fnFBRC6g8rgmICvrw0SJADx1_zAtwEHQuB2rIh1AeYRFyhkiEnlREW4lzryrzkkrxnRqBoCDDXw_wcB',\n",
       "  'adNetworkType': 'Google Search',\n",
       "  'isVideoAd': False},\n",
       " 'isTrueDirect': True}"
      ]
     },
     "execution_count": 104,
     "metadata": {},
     "output_type": "execute_result"
    }
   ],
   "source": [
    "d"
   ]
  },
  {
   "cell_type": "code",
   "execution_count": 108,
   "metadata": {},
   "outputs": [],
   "source": [
    "def unfold_dict(dico):\n",
    "    keys = list(dico.keys())\n",
    "    print(type(keys))\n",
    "    for i in range(len(keys)):\n",
    "        if(type(dico[keys[i]]) == dict):\n",
    "            new_dict = unfold_dict(dico[keys[i]])\n",
    "            new_keys = [keys[i] + '_' + s  for s in new_dict.keys()]\n",
    "            for key2, value in zip(new_keys, new_dict.values()):\n",
    "                dico[key2] = value\n",
    "            dico.pop(keys[i], None)    \n",
    "    return dico            "
   ]
  },
  {
   "cell_type": "code",
   "execution_count": 109,
   "metadata": {},
   "outputs": [
    {
     "name": "stdout",
     "output_type": "stream",
     "text": [
      "<class 'list'>\n",
      "<class 'list'>\n"
     ]
    },
    {
     "data": {
      "text/plain": [
       "{'campaign': 'AW - Accessories',\n",
       " 'source': 'google',\n",
       " 'medium': 'cpc',\n",
       " 'keyword': 'google store merchandise',\n",
       " 'adContent': 'Google Merchandise Collection',\n",
       " 'isTrueDirect': True,\n",
       " 'adwordsClickInfo_page': '1',\n",
       " 'adwordsClickInfo_slot': 'Top',\n",
       " 'adwordsClickInfo_criteriaParameters': 'not available in demo dataset',\n",
       " 'adwordsClickInfo_gclId': 'CjwKEAiA0fnFBRC6g8rgmICvrw0SJADx1_zAtwEHQuB2rIh1AeYRFyhkiEnlREW4lzryrzkkrxnRqBoCDDXw_wcB',\n",
       " 'adwordsClickInfo_adNetworkType': 'Google Search',\n",
       " 'adwordsClickInfo_isVideoAd': False}"
      ]
     },
     "execution_count": 109,
     "metadata": {},
     "output_type": "execute_result"
    }
   ],
   "source": [
    "unfold_dict(d)"
   ]
  },
  {
   "cell_type": "code",
   "execution_count": null,
   "metadata": {},
   "outputs": [],
   "source": []
  }
 ],
 "metadata": {
  "kernelspec": {
   "display_name": "Python 3",
   "language": "python",
   "name": "python3"
  },
  "language_info": {
   "codemirror_mode": {
    "name": "ipython",
    "version": 3
   },
   "file_extension": ".py",
   "mimetype": "text/x-python",
   "name": "python",
   "nbconvert_exporter": "python",
   "pygments_lexer": "ipython3",
   "version": "3.6.6"
  }
 },
 "nbformat": 4,
 "nbformat_minor": 2
}
